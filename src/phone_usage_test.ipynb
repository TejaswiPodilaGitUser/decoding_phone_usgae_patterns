{
 "cells": [
  {
   "cell_type": "code",
   "execution_count": null,
   "id": "f1d8909f",
   "metadata": {},
   "outputs": [],
   "source": [
    "# Import required libraries\n",
    "\n",
    "\n",
    "# Load dataset\n",
    "df = pd.read_csv('data/raw/phone_usage_india.csv')\n",
    "\n",
    "# Handle missing values\n",
    "df['Age'].fillna(df['Age'].mean(), inplace=True)  # Fill missing age with mean\n",
    "df['Gender'].fillna(df['Gender'].mode()[0], inplace=True)  # Fill missing gender with mode\n",
    "df['Phone Brand'].fillna(df['Phone Brand'].mode()[0], inplace=True)  # Fill missing brand with mode\n",
    "\n",
    "# Standardize OS and Phone Brand\n",
    "df['OS'] = df['OS'].str.lower().str.strip()\n",
    "df['Phone Brand'] = df['Phone Brand'].str.lower().str.strip()\n",
    "\n",
    "# Drop User ID if not needed for ML\n",
    "df.drop(columns=['User ID'], inplace=True, errors='ignore')\n",
    "\n",
    "# Handle outliers (Example: Capping Screen Time)\n",
    "df['Screen Time (hrs/day)'] = df['Screen Time (hrs/day)'].clip(upper=df['Screen Time (hrs/day)'].quantile(0.95))\n",
    "\n",
    "# Label Encoding for categorical columns\n",
    "categorical_columns = ['Location', 'Phone Brand', 'Gender', 'OS', 'Primary Use']\n",
    "label_encoders = {}\n",
    "for col in categorical_columns:\n",
    "    le = LabelEncoder()\n",
    "    df[col] = le.fit_transform(df[col])\n",
    "    label_encoders[col] = le\n",
    "\n",
    "# Save the preprocessed dataset\n",
    "df.to_csv('data/processed/processed_phone_usage_data.csv', index=False)\n",
    "\n",
    "print('Data merged, preprocessed, and saved as data/processed/processed_phone_usage_data.csv')\n"
   ]
  },
  {
   "cell_type": "code",
   "execution_count": 5,
   "id": "7d041a89",
   "metadata": {},
   "outputs": [],
   "source": [
    "import pandas as pd\n",
    "from sklearn.preprocessing import LabelEncoder\n",
    "from sklearn.impute import SimpleImputer\n",
    "from sklearn.preprocessing import StandardScaler\n",
    "from sklearn.model_selection import train_test_split"
   ]
  },
  {
   "cell_type": "code",
   "execution_count": 7,
   "id": "49867965",
   "metadata": {},
   "outputs": [],
   "source": [
    "# Load dataset\n",
    "df = pd.read_csv('../data/raw/phone_usage_india.csv')"
   ]
  },
  {
   "cell_type": "code",
   "execution_count": 9,
   "id": "fc71c70d",
   "metadata": {},
   "outputs": [
    {
     "name": "stdout",
     "output_type": "stream",
     "text": [
      "['Vivo' 'Realme' 'Nokia' 'Samsung' 'Xiaomi' 'Oppo' 'Apple' 'Google Pixel'\n",
      " 'Motorola' 'OnePlus']\n"
     ]
    }
   ],
   "source": [
    "print(df['Phone Brand'].unique())\n"
   ]
  },
  {
   "cell_type": "code",
   "execution_count": 11,
   "id": "29fbd8bb",
   "metadata": {},
   "outputs": [
    {
     "name": "stdout",
     "output_type": "stream",
     "text": [
      " Phone Brand      OS\n",
      "        Vivo Android\n",
      "      Realme     iOS\n",
      "       Nokia Android\n",
      "     Samsung Android\n",
      "      Xiaomi     iOS\n",
      "        Oppo     iOS\n",
      "       Apple     iOS\n",
      "        Oppo Android\n",
      "      Realme Android\n",
      "     Samsung     iOS\n",
      "Google Pixel Android\n",
      "       Apple Android\n",
      "    Motorola     iOS\n",
      "      Xiaomi Android\n",
      "        Vivo     iOS\n",
      "    Motorola Android\n",
      "     OnePlus Android\n",
      "Google Pixel     iOS\n",
      "       Nokia     iOS\n",
      "     OnePlus     iOS\n"
     ]
    }
   ],
   "source": [
    "unique_combinations = df[['Phone Brand', 'OS']].drop_duplicates()\n",
    "print(unique_combinations.to_string(index=False))\n"
   ]
  },
  {
   "cell_type": "code",
   "execution_count": null,
   "id": "ad51cb2b",
   "metadata": {},
   "outputs": [],
   "source": []
  },
  {
   "cell_type": "code",
   "execution_count": null,
   "id": "30584838",
   "metadata": {},
   "outputs": [],
   "source": []
  },
  {
   "cell_type": "code",
   "execution_count": null,
   "id": "fc94d965",
   "metadata": {},
   "outputs": [],
   "source": []
  }
 ],
 "metadata": {
  "kernelspec": {
   "display_name": "decodingphoneusageenv",
   "language": "python",
   "name": "python3"
  },
  "language_info": {
   "codemirror_mode": {
    "name": "ipython",
    "version": 3
   },
   "file_extension": ".py",
   "mimetype": "text/x-python",
   "name": "python",
   "nbconvert_exporter": "python",
   "pygments_lexer": "ipython3",
   "version": "3.12.9"
  }
 },
 "nbformat": 4,
 "nbformat_minor": 5
}
